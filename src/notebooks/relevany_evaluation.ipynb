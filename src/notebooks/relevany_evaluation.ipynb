{
 "cells": [
  {
   "cell_type": "code",
   "execution_count": 1,
   "id": "innovative-reverse",
   "metadata": {},
   "outputs": [],
   "source": [
    "import os\n",
    "\n",
    "from utils.input_utils.text_extraction import extract_from_file\n",
    "from utils.evaluation_utils.evaluation import get_keyword_results, get_all_files, process_keywords\n"
   ]
  },
  {
   "cell_type": "code",
   "execution_count": 2,
   "id": "accurate-green",
   "metadata": {},
   "outputs": [],
   "source": [
    "raw = os.path.abspath(\"../data/no_problem/\")\n",
    "\n",
    "amount_of_docs = 5      "
   ]
  },
  {
   "cell_type": "code",
   "execution_count": null,
   "id": "collectible-fishing",
   "metadata": {},
   "outputs": [
    {
     "name": "stdout",
     "output_type": "stream",
     "text": [
      "test\n",
      "test\n",
      "test\n",
      "test\n",
      "test\n",
      "test\n",
      "test\n"
     ]
    }
   ],
   "source": [
    "files = get_all_files(raw)   \n",
    "\n",
    "df = process_keywords(files, amount_of_docs)"
   ]
  },
  {
   "cell_type": "code",
   "execution_count": null,
   "id": "leading-saudi",
   "metadata": {},
   "outputs": [],
   "source": [
    "from utils.evaluation_utils.evaluation import get_mean_relevancy\n",
    "    \n",
    "get_mean_relevancy(df)"
   ]
  },
  {
   "cell_type": "code",
   "execution_count": null,
   "id": "missing-least",
   "metadata": {},
   "outputs": [],
   "source": [
    "from utils.evaluation_utils.evaluation import plot_relevancy\n",
    "\n",
    "plot_relevancy(df)"
   ]
  },
  {
   "cell_type": "code",
   "execution_count": null,
   "id": "social-comparative",
   "metadata": {},
   "outputs": [],
   "source": []
  }
 ],
 "metadata": {
  "kernelspec": {
   "display_name": "vocabulary-extraction",
   "language": "python",
   "name": "vocabulary-extraction"
  },
  "language_info": {
   "codemirror_mode": {
    "name": "ipython",
    "version": 3
   },
   "file_extension": ".py",
   "mimetype": "text/x-python",
   "name": "python",
   "nbconvert_exporter": "python",
   "pygments_lexer": "ipython3",
   "version": "3.7.8"
  }
 },
 "nbformat": 4,
 "nbformat_minor": 5
}
