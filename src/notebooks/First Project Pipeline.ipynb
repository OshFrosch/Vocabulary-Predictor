{
 "cells": [
  {
   "cell_type": "markdown",
   "metadata": {},
   "source": [
    "# First Project Pipline"
   ]
  },
  {
   "cell_type": "markdown",
   "metadata": {},
   "source": [
    "## Setup"
   ]
  },
  {
   "cell_type": "code",
   "execution_count": 12,
   "metadata": {},
   "outputs": [],
   "source": [
    "import spacy\n",
    "from spacy.tokens import Token\n",
    "from spacy.tokens import Doc"
   ]
  },
  {
   "cell_type": "code",
   "execution_count": 13,
   "metadata": {},
   "outputs": [],
   "source": [
    "from wordfreq import zipf_frequency\n",
    "from wordfreq import word_frequency"
   ]
  },
  {
   "cell_type": "code",
   "execution_count": 14,
   "metadata": {},
   "outputs": [],
   "source": [
    "import numpy as np\n",
    "import pandas as pd\n",
    "import regex as re"
   ]
  },
  {
   "cell_type": "code",
   "execution_count": 15,
   "metadata": {},
   "outputs": [],
   "source": [
    "#import nltk\n",
    "#nltk.download('cmudict')"
   ]
  },
  {
   "cell_type": "code",
   "execution_count": 16,
   "metadata": {},
   "outputs": [],
   "source": [
    "from nltk.corpus import cmudict\n",
    "\n",
    "phoneme_dict = dict(cmudict.entries())\n",
    "\n",
    "def syllable_counter(word):\n",
    "    '''function that counts a syllable in a word'''\n",
    "    if word not in phoneme_dict:\n",
    "        return 0\n",
    "    syllables = phoneme_dict[word]\n",
    "    count = len([syllable for syllable in syllables if syllable[-1].isdigit()])\n",
    "    return count"
   ]
  },
  {
   "cell_type": "code",
   "execution_count": 17,
   "metadata": {},
   "outputs": [],
   "source": [
    "def get_entities(doc):\n",
    "    entities = []\n",
    "\n",
    "    for ent in doc.ents:\n",
    "        ents = re.findall(r'[a-zA-Z]+', ent.text)\n",
    "        entities.extend(ents) \n",
    "        \n",
    "    return entities"
   ]
  },
  {
   "cell_type": "markdown",
   "metadata": {},
   "source": [
    "## Data"
   ]
  },
  {
   "cell_type": "code",
   "execution_count": 18,
   "metadata": {},
   "outputs": [],
   "source": [
    "text_file = '../data/kafka.txt'"
   ]
  },
  {
   "cell_type": "code",
   "execution_count": 20,
   "metadata": {},
   "outputs": [],
   "source": [
    "#print(open(text_file, \"r\").read())"
   ]
  },
  {
   "cell_type": "markdown",
   "metadata": {},
   "source": [
    "# Create Pipeline"
   ]
  },
  {
   "cell_type": "markdown",
   "metadata": {},
   "source": [
    "### Base Pipeline"
   ]
  },
  {
   "cell_type": "code",
   "execution_count": 255,
   "metadata": {},
   "outputs": [],
   "source": [
    "nlp = spacy.load('en_core_web_lg', disable = ['parser'])"
   ]
  },
  {
   "cell_type": "code",
   "execution_count": 22,
   "metadata": {},
   "outputs": [
    {
     "data": {
      "text/plain": [
       "['tagger', 'ner']"
      ]
     },
     "execution_count": 22,
     "metadata": {},
     "output_type": "execute_result"
    }
   ],
   "source": [
    "nlp.pipe_names"
   ]
  },
  {
   "cell_type": "markdown",
   "metadata": {},
   "source": [
    "### Wordcount"
   ]
  },
  {
   "cell_type": "code",
   "execution_count": 23,
   "metadata": {},
   "outputs": [],
   "source": [
    "Doc.set_extension('wordcount', default=0, force=True)"
   ]
  },
  {
   "cell_type": "code",
   "execution_count": 24,
   "metadata": {},
   "outputs": [],
   "source": [
    "def wordcount(doc):\n",
    "    '''gives an overall word count'''\n",
    "    wordcount = 0\n",
    "    \n",
    "    for token in doc:\n",
    "        if token.is_alpha:\n",
    "            wordcount += 1\n",
    "            \n",
    "    doc._.wordcount = wordcount\n",
    "    \n",
    "    print(f'{wordcount} overall words')\n",
    "         \n",
    "    return doc"
   ]
  },
  {
   "cell_type": "code",
   "execution_count": 25,
   "metadata": {},
   "outputs": [
    {
     "data": {
      "text/plain": [
       "['tagger', 'ner', 'wordcount']"
      ]
     },
     "execution_count": 25,
     "metadata": {},
     "output_type": "execute_result"
    }
   ],
   "source": [
    "nlp.add_pipe(wordcount)\n",
    "nlp.pipe_names"
   ]
  },
  {
   "cell_type": "markdown",
   "metadata": {},
   "source": [
    "### Filter"
   ]
  },
  {
   "cell_type": "code",
   "execution_count": 26,
   "metadata": {},
   "outputs": [],
   "source": [
    "Token.set_extension('is_excluded', default=False, force=True)"
   ]
  },
  {
   "cell_type": "code",
   "execution_count": 27,
   "metadata": {},
   "outputs": [],
   "source": [
    "def filter_tokens(doc):\n",
    "    '''filters all tokens'''\n",
    "    entities = get_entities(doc)            \n",
    "    \n",
    "    for token in doc:\n",
    "        # filter stopwords\n",
    "        if not token.is_alpha or token.is_stop:\n",
    "            token._.is_excluded = True\n",
    "        # filter part-of-speech\n",
    "        if token.pos_ not in ['NOUN', 'VERB', 'ADJ', 'ADV']: # ADV?\n",
    "            token._.is_excluded = True\n",
    "        # filter entities\n",
    "        if token.text in entities:\n",
    "            token._.is_excluded = True\n",
    "         \n",
    "    return doc"
   ]
  },
  {
   "cell_type": "code",
   "execution_count": 28,
   "metadata": {},
   "outputs": [],
   "source": [
    "def count_words(doc):\n",
    "    c = 0\n",
    "    \n",
    "    for token in doc:\n",
    "        if not token._.is_excluded:\n",
    "            c += 1\n",
    "    print(f'{c} words included')\n",
    "    \n",
    "    return doc"
   ]
  },
  {
   "cell_type": "code",
   "execution_count": 29,
   "metadata": {},
   "outputs": [
    {
     "data": {
      "text/plain": [
       "['tagger', 'ner', 'wordcount', 'filter_tokens', 'count_words']"
      ]
     },
     "execution_count": 29,
     "metadata": {},
     "output_type": "execute_result"
    }
   ],
   "source": [
    "nlp.add_pipe(filter_tokens)\n",
    "nlp.add_pipe(count_words)\n",
    "nlp.pipe_names"
   ]
  },
  {
   "cell_type": "markdown",
   "metadata": {},
   "source": [
    "### Eliminating Duplicates"
   ]
  },
  {
   "cell_type": "code",
   "execution_count": 30,
   "metadata": {},
   "outputs": [],
   "source": [
    "Token.set_extension('appearance', default=np.nan, force=True)"
   ]
  },
  {
   "cell_type": "code",
   "execution_count": 31,
   "metadata": {},
   "outputs": [],
   "source": [
    "def elim_dup(doc):\n",
    "    '''eliminates all duplicates and counts the appearance of the included words'''\n",
    "    already_appeared = {}\n",
    "    \n",
    "    for token in doc:\n",
    "        if not token._.is_excluded:\n",
    "            if token.lemma_ in already_appeared.keys():\n",
    "                already_appeared[token.lemma_] += 1\n",
    "                token._.is_excluded = True\n",
    "            else: \n",
    "                already_appeared[token.lemma_] = 1\n",
    "    \n",
    "    for token in doc:\n",
    "        if not token._.is_excluded:\n",
    "            token._.appearance = already_appeared[token.lemma_]\n",
    "    \n",
    "    \n",
    "    \n",
    "    return doc"
   ]
  },
  {
   "cell_type": "code",
   "execution_count": 32,
   "metadata": {},
   "outputs": [],
   "source": [
    "def count_voc(doc):\n",
    "    c = 0\n",
    "    \n",
    "    for token in doc:\n",
    "        if not token._.is_excluded:\n",
    "            c += 1\n",
    "    print(f'{c} words without duplicate included')\n",
    "    \n",
    "    return doc"
   ]
  },
  {
   "cell_type": "code",
   "execution_count": 33,
   "metadata": {},
   "outputs": [
    {
     "data": {
      "text/plain": [
       "['tagger',\n",
       " 'ner',\n",
       " 'wordcount',\n",
       " 'filter_tokens',\n",
       " 'count_words',\n",
       " 'elim_dup',\n",
       " 'count_voc']"
      ]
     },
     "execution_count": 33,
     "metadata": {},
     "output_type": "execute_result"
    }
   ],
   "source": [
    "nlp.add_pipe(elim_dup)\n",
    "nlp.add_pipe(count_voc)\n",
    "nlp.pipe_names"
   ]
  },
  {
   "cell_type": "markdown",
   "metadata": {},
   "source": [
    "### Relative Freqency"
   ]
  },
  {
   "cell_type": "code",
   "execution_count": 34,
   "metadata": {},
   "outputs": [],
   "source": [
    "Token.set_extension('relativ_freq', default=np.nan, force=True)"
   ]
  },
  {
   "cell_type": "code",
   "execution_count": 35,
   "metadata": {},
   "outputs": [],
   "source": [
    "def calculate_relativ_freq(doc):\n",
    "    '''calculating the relativ frequency of a included word'''\n",
    "    \n",
    "    maw = 20 # maximal appearance weight\n",
    "    \n",
    "    for token in doc:\n",
    "        if not token._.is_excluded:\n",
    "            text_freq = min(maw, token._.appearance) / doc._.wordcount\n",
    "            overall_freq = word_frequency(token.lemma_, 'en')\n",
    "            if overall_freq != 0:\n",
    "                token._.relativ_freq = text_freq**2 / overall_freq\n",
    "        \n",
    "    return doc"
   ]
  },
  {
   "cell_type": "code",
   "execution_count": 36,
   "metadata": {},
   "outputs": [
    {
     "data": {
      "text/plain": [
       "['tagger',\n",
       " 'ner',\n",
       " 'wordcount',\n",
       " 'filter_tokens',\n",
       " 'count_words',\n",
       " 'elim_dup',\n",
       " 'count_voc',\n",
       " 'calculate_relativ_freq']"
      ]
     },
     "execution_count": 36,
     "metadata": {},
     "output_type": "execute_result"
    }
   ],
   "source": [
    "nlp.add_pipe(calculate_relativ_freq)\n",
    "nlp.pipe_names"
   ]
  },
  {
   "cell_type": "markdown",
   "metadata": {},
   "source": [
    "### Rating Difficulty"
   ]
  },
  {
   "cell_type": "code",
   "execution_count": 37,
   "metadata": {},
   "outputs": [],
   "source": [
    "Token.set_extension('difficulty', default=0, force=True)"
   ]
  },
  {
   "cell_type": "code",
   "execution_count": 38,
   "metadata": {},
   "outputs": [],
   "source": [
    "def get_difficulty(doc):\n",
    "    \n",
    "    for token in doc:\n",
    "        if not token._.is_excluded:\n",
    "            lemma = token.lemma_\n",
    "            readability = zipf_frequency(lemma, 'en') # score of 1-8\n",
    "            syl = syllable_counter(lemma)\n",
    "            if syl > 1 and readability != 0 :\n",
    "                readability -= 0 #(syl - 2)/2\n",
    "            token._.difficulty = round(8 - readability, 2)\n",
    "            \n",
    "    return doc"
   ]
  },
  {
   "cell_type": "code",
   "execution_count": 39,
   "metadata": {},
   "outputs": [
    {
     "data": {
      "text/plain": [
       "['tagger',\n",
       " 'ner',\n",
       " 'wordcount',\n",
       " 'filter_tokens',\n",
       " 'count_words',\n",
       " 'elim_dup',\n",
       " 'count_voc',\n",
       " 'calculate_relativ_freq',\n",
       " 'get_difficulty']"
      ]
     },
     "execution_count": 39,
     "metadata": {},
     "output_type": "execute_result"
    }
   ],
   "source": [
    "nlp.add_pipe(get_difficulty)\n",
    "nlp.pipe_names"
   ]
  },
  {
   "cell_type": "markdown",
   "metadata": {},
   "source": [
    "# Test Processing"
   ]
  },
  {
   "cell_type": "markdown",
   "metadata": {},
   "source": [
    "### Test scentence"
   ]
  },
  {
   "cell_type": "code",
   "execution_count": 40,
   "metadata": {},
   "outputs": [
    {
     "name": "stdout",
     "output_type": "stream",
     "text": [
      "24 overall words\n",
      "9 words included\n",
      "6 words without duplicate included\n"
     ]
    }
   ],
   "source": [
    "doc = nlp(\"Hi I'm a little little boy. Get me a piece of cake or I'll killed your mother. I am the mother of your mother\")"
   ]
  },
  {
   "cell_type": "code",
   "execution_count": 42,
   "metadata": {},
   "outputs": [],
   "source": [
    "for ent in doc.ents:\n",
    "    print(ent.text, ent.start_char, ent.end_char, ent.label_)"
   ]
  },
  {
   "cell_type": "code",
   "execution_count": 30,
   "metadata": {},
   "outputs": [
    {
     "data": {
      "text/html": [
       "<div>\n",
       "<style scoped>\n",
       "    .dataframe tbody tr th:only-of-type {\n",
       "        vertical-align: middle;\n",
       "    }\n",
       "\n",
       "    .dataframe tbody tr th {\n",
       "        vertical-align: top;\n",
       "    }\n",
       "\n",
       "    .dataframe thead th {\n",
       "        text-align: right;\n",
       "    }\n",
       "</style>\n",
       "<table border=\"1\" class=\"dataframe\">\n",
       "  <thead>\n",
       "    <tr style=\"text-align: right;\">\n",
       "      <th></th>\n",
       "      <th>token</th>\n",
       "      <th>lemma</th>\n",
       "      <th>appearance</th>\n",
       "      <th>difficulty</th>\n",
       "      <th>relativ freqency</th>\n",
       "    </tr>\n",
       "  </thead>\n",
       "  <tbody>\n",
       "    <tr>\n",
       "      <th>0</th>\n",
       "      <td>little</td>\n",
       "      <td>little</td>\n",
       "      <td>2</td>\n",
       "      <td>2.25</td>\n",
       "      <td>12.356663</td>\n",
       "    </tr>\n",
       "    <tr>\n",
       "      <th>1</th>\n",
       "      <td>boy</td>\n",
       "      <td>boy</td>\n",
       "      <td>1</td>\n",
       "      <td>2.80</td>\n",
       "      <td>10.988045</td>\n",
       "    </tr>\n",
       "    <tr>\n",
       "      <th>2</th>\n",
       "      <td>piece</td>\n",
       "      <td>piece</td>\n",
       "      <td>1</td>\n",
       "      <td>3.03</td>\n",
       "      <td>18.607836</td>\n",
       "    </tr>\n",
       "    <tr>\n",
       "      <th>3</th>\n",
       "      <td>cake</td>\n",
       "      <td>cake</td>\n",
       "      <td>1</td>\n",
       "      <td>3.57</td>\n",
       "      <td>64.539447</td>\n",
       "    </tr>\n",
       "    <tr>\n",
       "      <th>4</th>\n",
       "      <td>killed</td>\n",
       "      <td>kill</td>\n",
       "      <td>1</td>\n",
       "      <td>2.91</td>\n",
       "      <td>14.114724</td>\n",
       "    </tr>\n",
       "    <tr>\n",
       "      <th>5</th>\n",
       "      <td>mother</td>\n",
       "      <td>mother</td>\n",
       "      <td>3</td>\n",
       "      <td>2.72</td>\n",
       "      <td>81.806283</td>\n",
       "    </tr>\n",
       "  </tbody>\n",
       "</table>\n",
       "</div>"
      ],
      "text/plain": [
       "    token   lemma  appearance  difficulty  relativ freqency\n",
       "0  little  little           2        2.25         12.356663\n",
       "1     boy     boy           1        2.80         10.988045\n",
       "2   piece   piece           1        3.03         18.607836\n",
       "3    cake    cake           1        3.57         64.539447\n",
       "4  killed    kill           1        2.91         14.114724\n",
       "5  mother  mother           3        2.72         81.806283"
      ]
     },
     "execution_count": 30,
     "metadata": {},
     "output_type": "execute_result"
    }
   ],
   "source": [
    "data = []\n",
    "for token in doc:\n",
    "    if not token._.is_excluded:\n",
    "        data.append((token, token.lemma_, token._.appearance, token._.difficulty, token._.relativ_freq))\n",
    "df = pd.DataFrame(data, columns=['token', 'lemma', 'appearance', 'difficulty', 'relativ freqency'])\n",
    "df.head(100)"
   ]
  },
  {
   "cell_type": "code",
   "execution_count": 31,
   "metadata": {},
   "outputs": [
    {
     "data": {
      "text/html": [
       "<div>\n",
       "<style scoped>\n",
       "    .dataframe tbody tr th:only-of-type {\n",
       "        vertical-align: middle;\n",
       "    }\n",
       "\n",
       "    .dataframe tbody tr th {\n",
       "        vertical-align: top;\n",
       "    }\n",
       "\n",
       "    .dataframe thead th {\n",
       "        text-align: right;\n",
       "    }\n",
       "</style>\n",
       "<table border=\"1\" class=\"dataframe\">\n",
       "  <thead>\n",
       "    <tr style=\"text-align: right;\">\n",
       "      <th></th>\n",
       "      <th>token</th>\n",
       "      <th>lemma</th>\n",
       "      <th>appearance</th>\n",
       "      <th>difficulty</th>\n",
       "      <th>relativ freqency</th>\n",
       "    </tr>\n",
       "  </thead>\n",
       "  <tbody>\n",
       "    <tr>\n",
       "      <th>3</th>\n",
       "      <td>cake</td>\n",
       "      <td>cake</td>\n",
       "      <td>1</td>\n",
       "      <td>3.57</td>\n",
       "      <td>64.539447</td>\n",
       "    </tr>\n",
       "    <tr>\n",
       "      <th>2</th>\n",
       "      <td>piece</td>\n",
       "      <td>piece</td>\n",
       "      <td>1</td>\n",
       "      <td>3.03</td>\n",
       "      <td>18.607836</td>\n",
       "    </tr>\n",
       "    <tr>\n",
       "      <th>4</th>\n",
       "      <td>killed</td>\n",
       "      <td>kill</td>\n",
       "      <td>1</td>\n",
       "      <td>2.91</td>\n",
       "      <td>14.114724</td>\n",
       "    </tr>\n",
       "    <tr>\n",
       "      <th>1</th>\n",
       "      <td>boy</td>\n",
       "      <td>boy</td>\n",
       "      <td>1</td>\n",
       "      <td>2.80</td>\n",
       "      <td>10.988045</td>\n",
       "    </tr>\n",
       "    <tr>\n",
       "      <th>5</th>\n",
       "      <td>mother</td>\n",
       "      <td>mother</td>\n",
       "      <td>3</td>\n",
       "      <td>2.72</td>\n",
       "      <td>81.806283</td>\n",
       "    </tr>\n",
       "    <tr>\n",
       "      <th>0</th>\n",
       "      <td>little</td>\n",
       "      <td>little</td>\n",
       "      <td>2</td>\n",
       "      <td>2.25</td>\n",
       "      <td>12.356663</td>\n",
       "    </tr>\n",
       "  </tbody>\n",
       "</table>\n",
       "</div>"
      ],
      "text/plain": [
       "    token   lemma  appearance  difficulty  relativ freqency\n",
       "3    cake    cake           1        3.57         64.539447\n",
       "2   piece   piece           1        3.03         18.607836\n",
       "4  killed    kill           1        2.91         14.114724\n",
       "1     boy     boy           1        2.80         10.988045\n",
       "5  mother  mother           3        2.72         81.806283\n",
       "0  little  little           2        2.25         12.356663"
      ]
     },
     "execution_count": 31,
     "metadata": {},
     "output_type": "execute_result"
    }
   ],
   "source": [
    "df.sort_values(by=['difficulty'], ascending=False)"
   ]
  },
  {
   "cell_type": "code",
   "execution_count": 32,
   "metadata": {},
   "outputs": [
    {
     "data": {
      "text/html": [
       "<div>\n",
       "<style scoped>\n",
       "    .dataframe tbody tr th:only-of-type {\n",
       "        vertical-align: middle;\n",
       "    }\n",
       "\n",
       "    .dataframe tbody tr th {\n",
       "        vertical-align: top;\n",
       "    }\n",
       "\n",
       "    .dataframe thead th {\n",
       "        text-align: right;\n",
       "    }\n",
       "</style>\n",
       "<table border=\"1\" class=\"dataframe\">\n",
       "  <thead>\n",
       "    <tr style=\"text-align: right;\">\n",
       "      <th></th>\n",
       "      <th>token</th>\n",
       "      <th>lemma</th>\n",
       "      <th>appearance</th>\n",
       "      <th>difficulty</th>\n",
       "      <th>relativ freqency</th>\n",
       "    </tr>\n",
       "  </thead>\n",
       "  <tbody>\n",
       "    <tr>\n",
       "      <th>5</th>\n",
       "      <td>mother</td>\n",
       "      <td>mother</td>\n",
       "      <td>3</td>\n",
       "      <td>2.72</td>\n",
       "      <td>81.806283</td>\n",
       "    </tr>\n",
       "    <tr>\n",
       "      <th>3</th>\n",
       "      <td>cake</td>\n",
       "      <td>cake</td>\n",
       "      <td>1</td>\n",
       "      <td>3.57</td>\n",
       "      <td>64.539447</td>\n",
       "    </tr>\n",
       "    <tr>\n",
       "      <th>2</th>\n",
       "      <td>piece</td>\n",
       "      <td>piece</td>\n",
       "      <td>1</td>\n",
       "      <td>3.03</td>\n",
       "      <td>18.607836</td>\n",
       "    </tr>\n",
       "    <tr>\n",
       "      <th>4</th>\n",
       "      <td>killed</td>\n",
       "      <td>kill</td>\n",
       "      <td>1</td>\n",
       "      <td>2.91</td>\n",
       "      <td>14.114724</td>\n",
       "    </tr>\n",
       "    <tr>\n",
       "      <th>0</th>\n",
       "      <td>little</td>\n",
       "      <td>little</td>\n",
       "      <td>2</td>\n",
       "      <td>2.25</td>\n",
       "      <td>12.356663</td>\n",
       "    </tr>\n",
       "    <tr>\n",
       "      <th>1</th>\n",
       "      <td>boy</td>\n",
       "      <td>boy</td>\n",
       "      <td>1</td>\n",
       "      <td>2.80</td>\n",
       "      <td>10.988045</td>\n",
       "    </tr>\n",
       "  </tbody>\n",
       "</table>\n",
       "</div>"
      ],
      "text/plain": [
       "    token   lemma  appearance  difficulty  relativ freqency\n",
       "5  mother  mother           3        2.72         81.806283\n",
       "3    cake    cake           1        3.57         64.539447\n",
       "2   piece   piece           1        3.03         18.607836\n",
       "4  killed    kill           1        2.91         14.114724\n",
       "0  little  little           2        2.25         12.356663\n",
       "1     boy     boy           1        2.80         10.988045"
      ]
     },
     "execution_count": 32,
     "metadata": {},
     "output_type": "execute_result"
    }
   ],
   "source": [
    "df.sort_values(by=['relativ freqency'], ascending=False)"
   ]
  },
  {
   "cell_type": "markdown",
   "metadata": {},
   "source": [
    "________________________________"
   ]
  },
  {
   "cell_type": "markdown",
   "metadata": {},
   "source": [
    "### Kafka"
   ]
  },
  {
   "cell_type": "code",
   "execution_count": 33,
   "metadata": {},
   "outputs": [
    {
     "name": "stdout",
     "output_type": "stream",
     "text": [
      "25062 overall words\n",
      "8282 words included\n",
      "2029 words without duplicate included\n"
     ]
    }
   ],
   "source": [
    "with open(text_file, \"r\") as f:\n",
    "    doc = nlp(f.read())"
   ]
  },
  {
   "cell_type": "code",
   "execution_count": 34,
   "metadata": {},
   "outputs": [
    {
     "data": {
      "text/html": [
       "<div>\n",
       "<style scoped>\n",
       "    .dataframe tbody tr th:only-of-type {\n",
       "        vertical-align: middle;\n",
       "    }\n",
       "\n",
       "    .dataframe tbody tr th {\n",
       "        vertical-align: top;\n",
       "    }\n",
       "\n",
       "    .dataframe thead th {\n",
       "        text-align: right;\n",
       "    }\n",
       "</style>\n",
       "<table border=\"1\" class=\"dataframe\">\n",
       "  <thead>\n",
       "    <tr style=\"text-align: right;\">\n",
       "      <th></th>\n",
       "      <th>token</th>\n",
       "      <th>lemma</th>\n",
       "      <th>appearance</th>\n",
       "      <th>difficulty</th>\n",
       "      <th>relativ freqency</th>\n",
       "    </tr>\n",
       "  </thead>\n",
       "  <tbody>\n",
       "    <tr>\n",
       "      <th>0</th>\n",
       "      <td>Translated</td>\n",
       "      <td>translate</td>\n",
       "      <td>3</td>\n",
       "      <td>4.03</td>\n",
       "      <td>0.001536</td>\n",
       "    </tr>\n",
       "    <tr>\n",
       "      <th>1</th>\n",
       "      <td>use</td>\n",
       "      <td>use</td>\n",
       "      <td>21</td>\n",
       "      <td>2.17</td>\n",
       "      <td>0.000942</td>\n",
       "    </tr>\n",
       "    <tr>\n",
       "      <th>2</th>\n",
       "      <td>cost</td>\n",
       "      <td>cost</td>\n",
       "      <td>6</td>\n",
       "      <td>2.79</td>\n",
       "      <td>0.000354</td>\n",
       "    </tr>\n",
       "    <tr>\n",
       "      <th>3</th>\n",
       "      <td>restrictions</td>\n",
       "      <td>restriction</td>\n",
       "      <td>2</td>\n",
       "      <td>4.18</td>\n",
       "      <td>0.000963</td>\n",
       "    </tr>\n",
       "    <tr>\n",
       "      <th>4</th>\n",
       "      <td>whatsoever</td>\n",
       "      <td>whatsoever</td>\n",
       "      <td>3</td>\n",
       "      <td>4.01</td>\n",
       "      <td>0.001467</td>\n",
       "    </tr>\n",
       "    <tr>\n",
       "      <th>...</th>\n",
       "      <td>...</td>\n",
       "      <td>...</td>\n",
       "      <td>...</td>\n",
       "      <td>...</td>\n",
       "      <td>...</td>\n",
       "    </tr>\n",
       "    <tr>\n",
       "      <th>2024</th>\n",
       "      <td>PG</td>\n",
       "      <td>pg</td>\n",
       "      <td>1</td>\n",
       "      <td>4.25</td>\n",
       "      <td>0.000283</td>\n",
       "    </tr>\n",
       "    <tr>\n",
       "      <th>2025</th>\n",
       "      <td>search</td>\n",
       "      <td>search</td>\n",
       "      <td>1</td>\n",
       "      <td>2.98</td>\n",
       "      <td>0.000015</td>\n",
       "    </tr>\n",
       "    <tr>\n",
       "      <th>2026</th>\n",
       "      <td>facility</td>\n",
       "      <td>facility</td>\n",
       "      <td>1</td>\n",
       "      <td>3.46</td>\n",
       "      <td>0.000046</td>\n",
       "    </tr>\n",
       "    <tr>\n",
       "      <th>2027</th>\n",
       "      <td>subscribe</td>\n",
       "      <td>subscribe</td>\n",
       "      <td>1</td>\n",
       "      <td>4.11</td>\n",
       "      <td>0.000205</td>\n",
       "    </tr>\n",
       "    <tr>\n",
       "      <th>2028</th>\n",
       "      <td>newsletter</td>\n",
       "      <td>newsletter</td>\n",
       "      <td>1</td>\n",
       "      <td>4.28</td>\n",
       "      <td>0.000303</td>\n",
       "    </tr>\n",
       "  </tbody>\n",
       "</table>\n",
       "<p>2029 rows × 5 columns</p>\n",
       "</div>"
      ],
      "text/plain": [
       "             token        lemma  appearance  difficulty  relativ freqency\n",
       "0       Translated    translate           3        4.03          0.001536\n",
       "1              use          use          21        2.17          0.000942\n",
       "2             cost         cost           6        2.79          0.000354\n",
       "3     restrictions  restriction           2        4.18          0.000963\n",
       "4       whatsoever   whatsoever           3        4.01          0.001467\n",
       "...            ...          ...         ...         ...               ...\n",
       "2024            PG           pg           1        4.25          0.000283\n",
       "2025        search       search           1        2.98          0.000015\n",
       "2026      facility     facility           1        3.46          0.000046\n",
       "2027     subscribe    subscribe           1        4.11          0.000205\n",
       "2028    newsletter   newsletter           1        4.28          0.000303\n",
       "\n",
       "[2029 rows x 5 columns]"
      ]
     },
     "execution_count": 34,
     "metadata": {},
     "output_type": "execute_result"
    }
   ],
   "source": [
    "data = []\n",
    "for token in doc:\n",
    "    if not token._.is_excluded:\n",
    "        data.append((token, token.lemma_, token._.appearance, token._.difficulty, token._.relativ_freq))\n",
    "df = pd.DataFrame(data, columns=['token', 'lemma', 'appearance', 'difficulty', 'relativ freqency'])\n",
    "df"
   ]
  },
  {
   "cell_type": "code",
   "execution_count": 35,
   "metadata": {},
   "outputs": [
    {
     "data": {
      "text/html": [
       "<div>\n",
       "<style scoped>\n",
       "    .dataframe tbody tr th:only-of-type {\n",
       "        vertical-align: middle;\n",
       "    }\n",
       "\n",
       "    .dataframe tbody tr th {\n",
       "        vertical-align: top;\n",
       "    }\n",
       "\n",
       "    .dataframe thead th {\n",
       "        text-align: right;\n",
       "    }\n",
       "</style>\n",
       "<table border=\"1\" class=\"dataframe\">\n",
       "  <thead>\n",
       "    <tr style=\"text-align: right;\">\n",
       "      <th></th>\n",
       "      <th>token</th>\n",
       "      <th>lemma</th>\n",
       "      <th>appearance</th>\n",
       "      <th>difficulty</th>\n",
       "      <th>relativ freqency</th>\n",
       "    </tr>\n",
       "  </thead>\n",
       "  <tbody>\n",
       "    <tr>\n",
       "      <th>716</th>\n",
       "      <td>soughing</td>\n",
       "      <td>soughing</td>\n",
       "      <td>1</td>\n",
       "      <td>8.00</td>\n",
       "      <td>NaN</td>\n",
       "    </tr>\n",
       "    <tr>\n",
       "      <th>1754</th>\n",
       "      <td>excusal</td>\n",
       "      <td>excusal</td>\n",
       "      <td>1</td>\n",
       "      <td>8.00</td>\n",
       "      <td>NaN</td>\n",
       "    </tr>\n",
       "    <tr>\n",
       "      <th>440</th>\n",
       "      <td>swinging</td>\n",
       "      <td>swinge</td>\n",
       "      <td>1</td>\n",
       "      <td>8.00</td>\n",
       "      <td>NaN</td>\n",
       "    </tr>\n",
       "    <tr>\n",
       "      <th>24</th>\n",
       "      <td>METAMORPHOSIS</td>\n",
       "      <td>metamorphosi</td>\n",
       "      <td>2</td>\n",
       "      <td>8.00</td>\n",
       "      <td>NaN</td>\n",
       "    </tr>\n",
       "    <tr>\n",
       "      <th>1836</th>\n",
       "      <td>PGLAF</td>\n",
       "      <td>pglaf</td>\n",
       "      <td>1</td>\n",
       "      <td>8.00</td>\n",
       "      <td>NaN</td>\n",
       "    </tr>\n",
       "    <tr>\n",
       "      <th>849</th>\n",
       "      <td>outstretched</td>\n",
       "      <td>outstretche</td>\n",
       "      <td>2</td>\n",
       "      <td>8.00</td>\n",
       "      <td>NaN</td>\n",
       "    </tr>\n",
       "    <tr>\n",
       "      <th>1999</th>\n",
       "      <td>outdated</td>\n",
       "      <td>outdate</td>\n",
       "      <td>1</td>\n",
       "      <td>8.00</td>\n",
       "      <td>NaN</td>\n",
       "    </tr>\n",
       "    <tr>\n",
       "      <th>723</th>\n",
       "      <td>dishevelled</td>\n",
       "      <td>dishevel</td>\n",
       "      <td>1</td>\n",
       "      <td>8.00</td>\n",
       "      <td>NaN</td>\n",
       "    </tr>\n",
       "    <tr>\n",
       "      <th>1478</th>\n",
       "      <td>teaboy</td>\n",
       "      <td>teaboy</td>\n",
       "      <td>1</td>\n",
       "      <td>8.00</td>\n",
       "      <td>NaN</td>\n",
       "    </tr>\n",
       "    <tr>\n",
       "      <th>542</th>\n",
       "      <td>fretsaw</td>\n",
       "      <td>fretsaw</td>\n",
       "      <td>2</td>\n",
       "      <td>8.00</td>\n",
       "      <td>NaN</td>\n",
       "    </tr>\n",
       "    <tr>\n",
       "      <th>1718</th>\n",
       "      <td>enquiringly</td>\n",
       "      <td>enquiringly</td>\n",
       "      <td>1</td>\n",
       "      <td>8.00</td>\n",
       "      <td>NaN</td>\n",
       "    </tr>\n",
       "    <tr>\n",
       "      <th>1275</th>\n",
       "      <td>startlement</td>\n",
       "      <td>startlement</td>\n",
       "      <td>1</td>\n",
       "      <td>8.00</td>\n",
       "      <td>NaN</td>\n",
       "    </tr>\n",
       "    <tr>\n",
       "      <th>1955</th>\n",
       "      <td>unenforceability</td>\n",
       "      <td>unenforceability</td>\n",
       "      <td>1</td>\n",
       "      <td>6.92</td>\n",
       "      <td>0.132674</td>\n",
       "    </tr>\n",
       "    <tr>\n",
       "      <th>931</th>\n",
       "      <td>palely</td>\n",
       "      <td>palely</td>\n",
       "      <td>1</td>\n",
       "      <td>6.87</td>\n",
       "      <td>0.117933</td>\n",
       "    </tr>\n",
       "    <tr>\n",
       "      <th>1051</th>\n",
       "      <td>unselfconsciously</td>\n",
       "      <td>unselfconsciously</td>\n",
       "      <td>1</td>\n",
       "      <td>6.77</td>\n",
       "      <td>0.093653</td>\n",
       "    </tr>\n",
       "    <tr>\n",
       "      <th>1290</th>\n",
       "      <td>denuded</td>\n",
       "      <td>denude</td>\n",
       "      <td>1</td>\n",
       "      <td>6.77</td>\n",
       "      <td>0.093653</td>\n",
       "    </tr>\n",
       "    <tr>\n",
       "      <th>268</th>\n",
       "      <td>workshy</td>\n",
       "      <td>workshy</td>\n",
       "      <td>1</td>\n",
       "      <td>6.76</td>\n",
       "      <td>0.091500</td>\n",
       "    </tr>\n",
       "    <tr>\n",
       "      <th>1653</th>\n",
       "      <td>deranged</td>\n",
       "      <td>derange</td>\n",
       "      <td>1</td>\n",
       "      <td>6.74</td>\n",
       "      <td>0.087478</td>\n",
       "    </tr>\n",
       "    <tr>\n",
       "      <th>943</th>\n",
       "      <td>lifelessly</td>\n",
       "      <td>lifelessly</td>\n",
       "      <td>1</td>\n",
       "      <td>6.66</td>\n",
       "      <td>0.072698</td>\n",
       "    </tr>\n",
       "    <tr>\n",
       "      <th>1440</th>\n",
       "      <td>importune</td>\n",
       "      <td>importune</td>\n",
       "      <td>1</td>\n",
       "      <td>6.61</td>\n",
       "      <td>0.064983</td>\n",
       "    </tr>\n",
       "  </tbody>\n",
       "</table>\n",
       "</div>"
      ],
      "text/plain": [
       "                  token              lemma  appearance  difficulty  \\\n",
       "716            soughing           soughing           1        8.00   \n",
       "1754            excusal            excusal           1        8.00   \n",
       "440            swinging             swinge           1        8.00   \n",
       "24        METAMORPHOSIS       metamorphosi           2        8.00   \n",
       "1836              PGLAF              pglaf           1        8.00   \n",
       "849        outstretched        outstretche           2        8.00   \n",
       "1999           outdated            outdate           1        8.00   \n",
       "723         dishevelled           dishevel           1        8.00   \n",
       "1478             teaboy             teaboy           1        8.00   \n",
       "542             fretsaw            fretsaw           2        8.00   \n",
       "1718        enquiringly        enquiringly           1        8.00   \n",
       "1275        startlement        startlement           1        8.00   \n",
       "1955   unenforceability   unenforceability           1        6.92   \n",
       "931              palely             palely           1        6.87   \n",
       "1051  unselfconsciously  unselfconsciously           1        6.77   \n",
       "1290            denuded             denude           1        6.77   \n",
       "268             workshy            workshy           1        6.76   \n",
       "1653           deranged            derange           1        6.74   \n",
       "943          lifelessly         lifelessly           1        6.66   \n",
       "1440          importune          importune           1        6.61   \n",
       "\n",
       "      relativ freqency  \n",
       "716                NaN  \n",
       "1754               NaN  \n",
       "440                NaN  \n",
       "24                 NaN  \n",
       "1836               NaN  \n",
       "849                NaN  \n",
       "1999               NaN  \n",
       "723                NaN  \n",
       "1478               NaN  \n",
       "542                NaN  \n",
       "1718               NaN  \n",
       "1275               NaN  \n",
       "1955          0.132674  \n",
       "931           0.117933  \n",
       "1051          0.093653  \n",
       "1290          0.093653  \n",
       "268           0.091500  \n",
       "1653          0.087478  \n",
       "943           0.072698  \n",
       "1440          0.064983  "
      ]
     },
     "execution_count": 35,
     "metadata": {},
     "output_type": "execute_result"
    }
   ],
   "source": [
    "df.sort_values(by=['difficulty'], ascending=False).head(20)"
   ]
  },
  {
   "cell_type": "code",
   "execution_count": 36,
   "metadata": {},
   "outputs": [
    {
     "data": {
      "text/html": [
       "<div>\n",
       "<style scoped>\n",
       "    .dataframe tbody tr th:only-of-type {\n",
       "        vertical-align: middle;\n",
       "    }\n",
       "\n",
       "    .dataframe tbody tr th {\n",
       "        vertical-align: top;\n",
       "    }\n",
       "\n",
       "    .dataframe thead th {\n",
       "        text-align: right;\n",
       "    }\n",
       "</style>\n",
       "<table border=\"1\" class=\"dataframe\">\n",
       "  <thead>\n",
       "    <tr style=\"text-align: right;\">\n",
       "      <th></th>\n",
       "      <th>token</th>\n",
       "      <th>lemma</th>\n",
       "      <th>appearance</th>\n",
       "      <th>difficulty</th>\n",
       "      <th>relativ freqency</th>\n",
       "    </tr>\n",
       "  </thead>\n",
       "  <tbody>\n",
       "    <tr>\n",
       "      <th>1455</th>\n",
       "      <td>charwoman</td>\n",
       "      <td>charwoman</td>\n",
       "      <td>9</td>\n",
       "      <td>6.39</td>\n",
       "      <td>3.168540</td>\n",
       "    </tr>\n",
       "    <tr>\n",
       "      <th>735</th>\n",
       "      <td>leant</td>\n",
       "      <td>leant</td>\n",
       "      <td>8</td>\n",
       "      <td>5.61</td>\n",
       "      <td>0.415894</td>\n",
       "    </tr>\n",
       "    <tr>\n",
       "      <th>464</th>\n",
       "      <td>swang</td>\n",
       "      <td>swang</td>\n",
       "      <td>2</td>\n",
       "      <td>6.42</td>\n",
       "      <td>0.167589</td>\n",
       "    </tr>\n",
       "    <tr>\n",
       "      <th>279</th>\n",
       "      <td>hurriedly</td>\n",
       "      <td>hurriedly</td>\n",
       "      <td>7</td>\n",
       "      <td>5.29</td>\n",
       "      <td>0.152071</td>\n",
       "    </tr>\n",
       "    <tr>\n",
       "      <th>1955</th>\n",
       "      <td>unenforceability</td>\n",
       "      <td>unenforceability</td>\n",
       "      <td>1</td>\n",
       "      <td>6.92</td>\n",
       "      <td>0.132674</td>\n",
       "    </tr>\n",
       "    <tr>\n",
       "      <th>931</th>\n",
       "      <td>palely</td>\n",
       "      <td>palely</td>\n",
       "      <td>1</td>\n",
       "      <td>6.87</td>\n",
       "      <td>0.117933</td>\n",
       "    </tr>\n",
       "    <tr>\n",
       "      <th>1051</th>\n",
       "      <td>unselfconsciously</td>\n",
       "      <td>unselfconsciously</td>\n",
       "      <td>1</td>\n",
       "      <td>6.77</td>\n",
       "      <td>0.093653</td>\n",
       "    </tr>\n",
       "    <tr>\n",
       "      <th>1290</th>\n",
       "      <td>denuded</td>\n",
       "      <td>denude</td>\n",
       "      <td>1</td>\n",
       "      <td>6.77</td>\n",
       "      <td>0.093653</td>\n",
       "    </tr>\n",
       "    <tr>\n",
       "      <th>268</th>\n",
       "      <td>workshy</td>\n",
       "      <td>workshy</td>\n",
       "      <td>1</td>\n",
       "      <td>6.76</td>\n",
       "      <td>0.091500</td>\n",
       "    </tr>\n",
       "    <tr>\n",
       "      <th>962</th>\n",
       "      <td>crawled</td>\n",
       "      <td>crawl</td>\n",
       "      <td>17</td>\n",
       "      <td>4.28</td>\n",
       "      <td>0.087641</td>\n",
       "    </tr>\n",
       "    <tr>\n",
       "      <th>1653</th>\n",
       "      <td>deranged</td>\n",
       "      <td>derange</td>\n",
       "      <td>1</td>\n",
       "      <td>6.74</td>\n",
       "      <td>0.087478</td>\n",
       "    </tr>\n",
       "    <tr>\n",
       "      <th>1800</th>\n",
       "      <td>distribute</td>\n",
       "      <td>distribute</td>\n",
       "      <td>17</td>\n",
       "      <td>4.21</td>\n",
       "      <td>0.074573</td>\n",
       "    </tr>\n",
       "    <tr>\n",
       "      <th>943</th>\n",
       "      <td>lifelessly</td>\n",
       "      <td>lifelessly</td>\n",
       "      <td>1</td>\n",
       "      <td>6.66</td>\n",
       "      <td>0.072698</td>\n",
       "    </tr>\n",
       "    <tr>\n",
       "      <th>1440</th>\n",
       "      <td>importune</td>\n",
       "      <td>importune</td>\n",
       "      <td>1</td>\n",
       "      <td>6.61</td>\n",
       "      <td>0.064983</td>\n",
       "    </tr>\n",
       "    <tr>\n",
       "      <th>527</th>\n",
       "      <td>untidiness</td>\n",
       "      <td>untidiness</td>\n",
       "      <td>1</td>\n",
       "      <td>6.60</td>\n",
       "      <td>0.063430</td>\n",
       "    </tr>\n",
       "    <tr>\n",
       "      <th>1727</th>\n",
       "      <td>irritably</td>\n",
       "      <td>irritably</td>\n",
       "      <td>1</td>\n",
       "      <td>6.60</td>\n",
       "      <td>0.063430</td>\n",
       "    </tr>\n",
       "    <tr>\n",
       "      <th>486</th>\n",
       "      <td>clerk</td>\n",
       "      <td>clerk</td>\n",
       "      <td>37</td>\n",
       "      <td>3.99</td>\n",
       "      <td>0.062435</td>\n",
       "    </tr>\n",
       "    <tr>\n",
       "      <th>1869</th>\n",
       "      <td>nonproprietary</td>\n",
       "      <td>nonproprietary</td>\n",
       "      <td>1</td>\n",
       "      <td>6.58</td>\n",
       "      <td>0.060536</td>\n",
       "    </tr>\n",
       "    <tr>\n",
       "      <th>655</th>\n",
       "      <td>locksmith</td>\n",
       "      <td>locksmith</td>\n",
       "      <td>4</td>\n",
       "      <td>5.35</td>\n",
       "      <td>0.056988</td>\n",
       "    </tr>\n",
       "    <tr>\n",
       "      <th>1730</th>\n",
       "      <td>disconcerted</td>\n",
       "      <td>disconcert</td>\n",
       "      <td>1</td>\n",
       "      <td>6.55</td>\n",
       "      <td>0.056457</td>\n",
       "    </tr>\n",
       "    <tr>\n",
       "      <th>847</th>\n",
       "      <td>engrossed</td>\n",
       "      <td>engross</td>\n",
       "      <td>1</td>\n",
       "      <td>6.51</td>\n",
       "      <td>0.051524</td>\n",
       "    </tr>\n",
       "    <tr>\n",
       "      <th>1047</th>\n",
       "      <td>startled</td>\n",
       "      <td>startle</td>\n",
       "      <td>4</td>\n",
       "      <td>5.30</td>\n",
       "      <td>0.050845</td>\n",
       "    </tr>\n",
       "    <tr>\n",
       "      <th>1240</th>\n",
       "      <td>whereabouts</td>\n",
       "      <td>whereabout</td>\n",
       "      <td>1</td>\n",
       "      <td>6.49</td>\n",
       "      <td>0.049139</td>\n",
       "    </tr>\n",
       "    <tr>\n",
       "      <th>181</th>\n",
       "      <td>gentlemen</td>\n",
       "      <td>gentleman</td>\n",
       "      <td>27</td>\n",
       "      <td>3.85</td>\n",
       "      <td>0.045166</td>\n",
       "    </tr>\n",
       "    <tr>\n",
       "      <th>1328</th>\n",
       "      <td>entombed</td>\n",
       "      <td>entomb</td>\n",
       "      <td>1</td>\n",
       "      <td>6.45</td>\n",
       "      <td>0.044848</td>\n",
       "    </tr>\n",
       "    <tr>\n",
       "      <th>1164</th>\n",
       "      <td>violin</td>\n",
       "      <td>violin</td>\n",
       "      <td>12</td>\n",
       "      <td>4.28</td>\n",
       "      <td>0.043669</td>\n",
       "    </tr>\n",
       "    <tr>\n",
       "      <th>1306</th>\n",
       "      <td>glowering</td>\n",
       "      <td>glower</td>\n",
       "      <td>1</td>\n",
       "      <td>6.41</td>\n",
       "      <td>0.040928</td>\n",
       "    </tr>\n",
       "    <tr>\n",
       "      <th>1894</th>\n",
       "      <td>donations</td>\n",
       "      <td>donation</td>\n",
       "      <td>15</td>\n",
       "      <td>4.03</td>\n",
       "      <td>0.038395</td>\n",
       "    </tr>\n",
       "    <tr>\n",
       "      <th>12</th>\n",
       "      <td>copyright</td>\n",
       "      <td>copyright</td>\n",
       "      <td>20</td>\n",
       "      <td>3.76</td>\n",
       "      <td>0.036600</td>\n",
       "    </tr>\n",
       "    <tr>\n",
       "      <th>989</th>\n",
       "      <td>couch</td>\n",
       "      <td>couch</td>\n",
       "      <td>17</td>\n",
       "      <td>3.89</td>\n",
       "      <td>0.035668</td>\n",
       "    </tr>\n",
       "  </tbody>\n",
       "</table>\n",
       "</div>"
      ],
      "text/plain": [
       "                  token              lemma  appearance  difficulty  \\\n",
       "1455          charwoman          charwoman           9        6.39   \n",
       "735               leant              leant           8        5.61   \n",
       "464               swang              swang           2        6.42   \n",
       "279           hurriedly          hurriedly           7        5.29   \n",
       "1955   unenforceability   unenforceability           1        6.92   \n",
       "931              palely             palely           1        6.87   \n",
       "1051  unselfconsciously  unselfconsciously           1        6.77   \n",
       "1290            denuded             denude           1        6.77   \n",
       "268             workshy            workshy           1        6.76   \n",
       "962             crawled              crawl          17        4.28   \n",
       "1653           deranged            derange           1        6.74   \n",
       "1800         distribute         distribute          17        4.21   \n",
       "943          lifelessly         lifelessly           1        6.66   \n",
       "1440          importune          importune           1        6.61   \n",
       "527          untidiness         untidiness           1        6.60   \n",
       "1727          irritably          irritably           1        6.60   \n",
       "486               clerk              clerk          37        3.99   \n",
       "1869     nonproprietary     nonproprietary           1        6.58   \n",
       "655           locksmith          locksmith           4        5.35   \n",
       "1730       disconcerted         disconcert           1        6.55   \n",
       "847           engrossed            engross           1        6.51   \n",
       "1047           startled            startle           4        5.30   \n",
       "1240        whereabouts         whereabout           1        6.49   \n",
       "181           gentlemen          gentleman          27        3.85   \n",
       "1328           entombed             entomb           1        6.45   \n",
       "1164             violin             violin          12        4.28   \n",
       "1306          glowering             glower           1        6.41   \n",
       "1894          donations           donation          15        4.03   \n",
       "12            copyright          copyright          20        3.76   \n",
       "989               couch              couch          17        3.89   \n",
       "\n",
       "      relativ freqency  \n",
       "1455          3.168540  \n",
       "735           0.415894  \n",
       "464           0.167589  \n",
       "279           0.152071  \n",
       "1955          0.132674  \n",
       "931           0.117933  \n",
       "1051          0.093653  \n",
       "1290          0.093653  \n",
       "268           0.091500  \n",
       "962           0.087641  \n",
       "1653          0.087478  \n",
       "1800          0.074573  \n",
       "943           0.072698  \n",
       "1440          0.064983  \n",
       "527           0.063430  \n",
       "1727          0.063430  \n",
       "486           0.062435  \n",
       "1869          0.060536  \n",
       "655           0.056988  \n",
       "1730          0.056457  \n",
       "847           0.051524  \n",
       "1047          0.050845  \n",
       "1240          0.049139  \n",
       "181           0.045166  \n",
       "1328          0.044848  \n",
       "1164          0.043669  \n",
       "1306          0.040928  \n",
       "1894          0.038395  \n",
       "12            0.036600  \n",
       "989           0.035668  "
      ]
     },
     "execution_count": 36,
     "metadata": {},
     "output_type": "execute_result"
    }
   ],
   "source": [
    "df.sort_values(by=['relativ freqency'], ascending=False).head(30)"
   ]
  },
  {
   "cell_type": "markdown",
   "metadata": {},
   "source": [
    "### Wordclusters"
   ]
  },
  {
   "cell_type": "code",
   "execution_count": 210,
   "metadata": {},
   "outputs": [],
   "source": [
    "from gensim.models import Word2Vec"
   ]
  },
  {
   "cell_type": "code",
   "execution_count": 249,
   "metadata": {},
   "outputs": [
    {
     "name": "stdout",
     "output_type": "stream",
     "text": [
      "41 overall words\n",
      "21 words included\n",
      "18 words without duplicate included\n"
     ]
    }
   ],
   "source": [
    "doc = nlp(\"I love cars, which drive very fast and loud. Trucks and vans are the best. My mother is all in to cooking good meals, foods and healthy dishes. This keeps me healthy while. I love the pasta and pies she bakes\")"
   ]
  },
  {
   "cell_type": "code",
   "execution_count": 250,
   "metadata": {},
   "outputs": [
    {
     "name": "stdout",
     "output_type": "stream",
     "text": [
      "[['love', 'car', 'drive', 'fast', 'loud', 'truck', 'van', 'good', 'mother', 'cook', 'meal', 'food', 'healthy', 'dish', 'keep', 'pasta', 'pie', 'bake']]\n"
     ]
    }
   ],
   "source": [
    "words = [[token.lemma_ for token in doc if not token._.is_excluded]]\n",
    "print(words)"
   ]
  }
 ],
 "metadata": {
  "kernelspec": {
   "display_name": "Python [conda env:TextAnalytics] *",
   "language": "python",
   "name": "conda-env-TextAnalytics-py"
  },
  "language_info": {
   "codemirror_mode": {
    "name": "ipython",
    "version": 3
   },
   "file_extension": ".py",
   "mimetype": "text/x-python",
   "name": "python",
   "nbconvert_exporter": "python",
   "pygments_lexer": "ipython3",
   "version": "3.8.0"
  }
 },
 "nbformat": 4,
 "nbformat_minor": 2
}
