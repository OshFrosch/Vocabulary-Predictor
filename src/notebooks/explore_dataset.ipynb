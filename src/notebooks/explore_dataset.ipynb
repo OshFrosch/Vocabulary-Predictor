{
 "metadata": {
  "language_info": {
   "codemirror_mode": {
    "name": "ipython",
    "version": 3
   },
   "file_extension": ".py",
   "mimetype": "text/x-python",
   "name": "python",
   "nbconvert_exporter": "python",
   "pygments_lexer": "ipython3",
   "version": 3
  },
  "orig_nbformat": 2
 },
 "nbformat": 4,
 "nbformat_minor": 2,
 "cells": [
  {
   "source": [
    "# Exploring the arXMLiv dataset\n",
    "\n",
    "arXMLiv 08.2018 - An HTML5 dataset for arXiv.org Data"
   ],
   "cell_type": "markdown",
   "metadata": {}
  }
 ]
}