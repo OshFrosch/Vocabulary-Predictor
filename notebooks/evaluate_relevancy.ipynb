{
 "cells": [
  {
   "cell_type": "markdown",
   "id": "electric-caution",
   "metadata": {},
   "source": [
    "# Relevancy evaluation \n",
    "\n",
    "We evaluate our keyword relevancy score by assuming that all keywords the authors mention are 100% relevant and checking which relevancy score we give these words in our pipeline"
   ]
  },
  {
   "cell_type": "code",
   "execution_count": 1,
   "id": "innovative-reverse",
   "metadata": {},
   "outputs": [],
   "source": [
    "import os\n",
    "\n",
    "from vocabulary_extraction.utils.evaluation_utils.evaluation import get_keyword_results, get_all_files, process_keywords\n"
   ]
  },
  {
   "cell_type": "code",
   "execution_count": 2,
   "id": "accurate-green",
   "metadata": {},
   "outputs": [],
   "source": [
    "raw = os.path.abspath(\"../src/data/no_problem/\")\n",
    "\n",
    "amount_of_docs = 5   \n"
   ]
  },
  {
   "cell_type": "code",
   "execution_count": 3,
   "id": "cutting-intelligence",
   "metadata": {},
   "outputs": [
    {
     "name": "stdout",
     "output_type": "stream",
     "text": [
      "/Users/bockstaller/code/vocabulary-extraction/src/data/no_problem\n"
     ]
    }
   ],
   "source": [
    "files = get_all_files(raw)   "
   ]
  },
  {
   "cell_type": "code",
   "execution_count": 4,
   "id": "collectible-fishing",
   "metadata": {},
   "outputs": [],
   "source": [
    "\n",
    "df = process_keywords(files, amount_of_docs)"
   ]
  },
  {
   "cell_type": "markdown",
   "id": "featured-simpson",
   "metadata": {},
   "source": [
    "```get_mean_relevancy()``` computes the mean relevancy scores of all words mentioned in the keyword section"
   ]
  },
  {
   "cell_type": "code",
   "execution_count": 5,
   "id": "leading-saudi",
   "metadata": {},
   "outputs": [
    {
     "data": {
      "text/plain": [
       "0.8062233787961182"
      ]
     },
     "execution_count": 5,
     "metadata": {},
     "output_type": "execute_result"
    }
   ],
   "source": [
    "from vocabulary_extraction.utils.evaluation_utils.evaluation import get_mean_relevancy\n",
    "    \n",
    "get_mean_relevancy(df)"
   ]
  },
  {
   "cell_type": "markdown",
   "id": "afraid-provider",
   "metadata": {},
   "source": [
    "```plot_relevancy()``` plots the relevancy for all keyword words. The x-axis contains the dataframe ids."
   ]
  },
  {
   "cell_type": "code",
   "execution_count": 6,
   "id": "missing-least",
   "metadata": {},
   "outputs": [
    {
     "data": {
      "image/png": "[encoded data removed]",
      "text/plain": [
       "<Figure size 432x288 with 1 Axes>"
      ]
     },
     "metadata": {
      "needs_background": "light"
     },
     "output_type": "display_data"
    }
   ],
   "source": [
    "from vocabulary_extraction.utils.evaluation_utils.evaluation import plot_relevancy\n",
    "\n",
    "plot_relevancy(df)"
   ]
  },
  {
   "cell_type": "code",
   "execution_count": null,
   "id": "social-comparative",
   "metadata": {},
   "outputs": [],
   "source": []
  }
 ],
 "metadata": {
  "kernelspec": {
   "display_name": "vocabulary-extraction",
   "language": "python",
   "name": "vocabulary-extraction"
  },
  "language_info": {
   "codemirror_mode": {
    "name": "ipython",
    "version": 3
   },
   "file_extension": ".py",
   "mimetype": "text/x-python",
   "name": "python",
   "nbconvert_exporter": "python",
   "pygments_lexer": "ipython3",
   "version": "3.7.8"
  }
 },
 "nbformat": 4,
 "nbformat_minor": 5
}
