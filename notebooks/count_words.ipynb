{
 "cells": [
  {
   "cell_type": "markdown",
   "id": "extensive-holly",
   "metadata": {},
   "source": [
    "# TF-Value generation\n",
    "\n",
    "This notebook is used to generate the tf-word counts. \n",
    "It takes a lot of time to run."
   ]
  },
  {
   "cell_type": "code",
   "execution_count": 30,
   "id": "portuguese-ratio",
   "metadata": {},
   "outputs": [],
   "source": [
    "import os\n",
    "import pandas as pd\n",
    "import dask.dataframe as dd\n",
    "from dask.multiprocessing import get\n",
    "from utils.input_utils.text_extraction import extract_html, extract_raw\n",
    "from utils.evaluation_utils.evaluation import get_all_files\n",
    "import uuid\n",
    "import spacy\n",
    "import pickle\n",
    "from collections import Counter"
   ]
  },
  {
   "cell_type": "code",
   "execution_count": 40,
   "id": "frank-rachel",
   "metadata": {},
   "outputs": [
    {
     "name": "stdout",
     "output_type": "stream",
     "text": [
      "/Users/bockstaller/code/vocabulary-extraction/src/data/no_problem\n"
     ]
    }
   ],
   "source": [
    "\n",
    "raw_files = os.path.abspath(\"../data/no_problem/\")\n",
    "processed_files = os.path.abspath(\"../data/processed\")\n",
    "counter_files = os.path.abspath(\"../data/counters\")\n",
    "print(raw_files)"
   ]
  },
  {
   "cell_type": "code",
   "execution_count": 41,
   "id": "protecting-implementation",
   "metadata": {},
   "outputs": [
    {
     "name": "stdout",
     "output_type": "stream",
     "text": [
      "/Users/bockstaller/code/vocabulary-extraction/src/data/processed/7427b7eb-4161-4a2f-801c-07cb2f8cede8.txt\n",
      "/Users/bockstaller/code/vocabulary-extraction/src/data/counters/d4b62129-d85b-4d27-8c16-a85ac977f598.pickle\n"
     ]
    },
    {
     "data": {
      "text/plain": [
       "'/Users/bockstaller/code/vocabulary-extraction/src/data/counters/d4b62129-d85b-4d27-8c16-a85ac977f598.pickle'"
      ]
     },
     "execution_count": 41,
     "metadata": {},
     "output_type": "execute_result"
    }
   ],
   "source": [
    "def extract_and_store_text(path, outpath):\n",
    "    txt = extract_html(path)\n",
    "    filename = outpath + \"/\" + str(uuid.uuid4()) + \".txt\"\n",
    "    with open(filename, \"w\") as file:\n",
    "        file.write(txt)\n",
    "    print(filename)\n",
    "    return filename\n",
    "\n",
    "def count_words(path, outpath=counter_files):\n",
    "    print(path)\n",
    "    nlp = spacy.load(\"en_core_web_lg\")\n",
    "    txt = extract_raw(path)\n",
    "    doc = nlp(txt)\n",
    "    words = [token.text for token in doc if token.is_stop != True and token.is_punct != True]\n",
    "    c = Counter(words) \n",
    "\n",
    "    filename = outpath + \"/\" + str(uuid.uuid4()) + '.pickle'\n",
    "    \n",
    "    with open(filename, 'wb+') as outputfile:\n",
    "        pickle.dump(c, outputfile)\n",
    "    \n",
    "    print(filename)\n",
    "    \n",
    "    return filename\n",
    "    \n",
    "count_words(\"/Users/bockstaller/code/vocabulary-extraction/src/data/processed/7427b7eb-4161-4a2f-801c-07cb2f8cede8.txt\")"
   ]
  },
  {
   "cell_type": "code",
   "execution_count": 47,
   "id": "royal-myanmar",
   "metadata": {},
   "outputs": [
    {
     "name": "stdout",
     "output_type": "stream",
     "text": [
      "                                           raw_files\n",
      "0  /Users/bockstaller/code/vocabulary-extraction/...\n",
      "1  /Users/bockstaller/code/vocabulary-extraction/...\n",
      "2  /Users/bockstaller/code/vocabulary-extraction/...\n",
      "3  /Users/bockstaller/code/vocabulary-extraction/...\n",
      "4  /Users/bockstaller/code/vocabulary-extraction/...\n",
      "5  /Users/bockstaller/code/vocabulary-extraction/...\n",
      "6  /Users/bockstaller/code/vocabulary-extraction/...\n",
      "7  /Users/bockstaller/code/vocabulary-extraction/...\n",
      "8  /Users/bockstaller/code/vocabulary-extraction/...\n",
      "9  /Users/bockstaller/code/vocabulary-extraction/...\n"
     ]
    }
   ],
   "source": [
    "files = get_all_files(raw_files)\n",
    "data = pd.DataFrame(files[0:10], columns=[\"raw_files\"])\n",
    "print(data)\n"
   ]
  },
  {
   "cell_type": "code",
   "execution_count": 48,
   "id": "boxed-subject",
   "metadata": {},
   "outputs": [
    {
     "name": "stdout",
     "output_type": "stream",
     "text": [
      "Dask Series Structure:\n",
      "npartitions=3\n",
      "0    object\n",
      "3       ...\n",
      "6       ...\n",
      "9       ...\n",
      "Name: preprocessed_files, dtype: object\n",
      "Dask Name: getitem, 22 tasks\n"
     ]
    }
   ],
   "source": [
    "ddata = dd.from_pandas(data, npartitions=4)\n",
    "\n",
    "ddata[\"preprocessed_files\"] = ddata.map_partitions(\n",
    "    lambda df: df.apply(\n",
    "        (lambda row: extract_and_store_text(*row, outpath=processed_files)), axis=1\n",
    "    ),\n",
    "    meta=(\"df\", str),\n",
    ").compute(scheduler=\"processes\")\n",
    "\n",
    "print(ddata[\"preprocessed_files\"])"
   ]
  },
  {
   "cell_type": "code",
   "execution_count": 49,
   "id": "joint-station",
   "metadata": {},
   "outputs": [
    {
     "data": {
      "text/html": [
       "<div><strong>Dask DataFrame Structure:</strong></div>\n",
       "<div>\n",
       "<style scoped>\n",
       "    .dataframe tbody tr th:only-of-type {\n",
       "        vertical-align: middle;\n",
       "    }\n",
       "\n",
       "    .dataframe tbody tr th {\n",
       "        vertical-align: top;\n",
       "    }\n",
       "\n",
       "    .dataframe thead th {\n",
       "        text-align: right;\n",
       "    }\n",
       "</style>\n",
       "<table border=\"1\" class=\"dataframe\">\n",
       "  <thead>\n",
       "    <tr style=\"text-align: right;\">\n",
       "      <th></th>\n",
       "      <th>raw_files</th>\n",
       "      <th>preprocessed_files</th>\n",
       "      <th>counters</th>\n",
       "    </tr>\n",
       "    <tr>\n",
       "      <th>npartitions=3</th>\n",
       "      <th></th>\n",
       "      <th></th>\n",
       "      <th></th>\n",
       "    </tr>\n",
       "  </thead>\n",
       "  <tbody>\n",
       "    <tr>\n",
       "      <th>0</th>\n",
       "      <td>object</td>\n",
       "      <td>object</td>\n",
       "      <td>object</td>\n",
       "    </tr>\n",
       "    <tr>\n",
       "      <th>3</th>\n",
       "      <td>...</td>\n",
       "      <td>...</td>\n",
       "      <td>...</td>\n",
       "    </tr>\n",
       "    <tr>\n",
       "      <th>6</th>\n",
       "      <td>...</td>\n",
       "      <td>...</td>\n",
       "      <td>...</td>\n",
       "    </tr>\n",
       "    <tr>\n",
       "      <th>9</th>\n",
       "      <td>...</td>\n",
       "      <td>...</td>\n",
       "      <td>...</td>\n",
       "    </tr>\n",
       "  </tbody>\n",
       "</table>\n",
       "</div>\n",
       "<div>Dask Name: assign, 35 tasks</div>"
      ],
      "text/plain": [
       "Dask DataFrame Structure:\n",
       "              raw_files preprocessed_files counters\n",
       "npartitions=3                                      \n",
       "0                object             object   object\n",
       "3                   ...                ...      ...\n",
       "6                   ...                ...      ...\n",
       "9                   ...                ...      ...\n",
       "Dask Name: assign, 35 tasks"
      ]
     },
     "execution_count": 49,
     "metadata": {},
     "output_type": "execute_result"
    }
   ],
   "source": [
    "ddata['counters']  = ddata.map_partitions(\n",
    "    lambda df: df.apply(\n",
    "        (lambda row: count_words(row['preprocessed_files'])), axis=1\n",
    "    ),\n",
    "    meta=(\"df\", str),\n",
    ").compute(scheduler=\"processes\")\n",
    "\n",
    "ddata"
   ]
  },
  {
   "cell_type": "code",
   "execution_count": 59,
   "id": "active-meeting",
   "metadata": {},
   "outputs": [
    {
     "name": "stdout",
     "output_type": "stream",
     "text": [
      "[(' ', 1427), ('\\xa0', 857), ('  ', 573), ('al', 543), ('et', 541), ('     ', 395), ('    ', 378), ('stars', 350), ('\\u2009', 340), ('1999', 335)]\n"
     ]
    }
   ],
   "source": [
    "c = Counter()\n",
    "\n",
    "for index, row in ddata.iterrows():\n",
    "    with open(row['counters'], 'rb') as inputfile:\n",
    "        c1 = pickle.load(inputfile)\n",
    "        c += c1\n",
    "        \n",
    "print(c.most_common(10))\n",
    "        \n"
   ]
  }
 ],
 "metadata": {
  "kernelspec": {
   "display_name": "vocabulary-extraction",
   "language": "python",
   "name": "vocabulary-extraction"
  },
  "language_info": {
   "codemirror_mode": {
    "name": "ipython",
    "version": 3
   },
   "file_extension": ".py",
   "mimetype": "text/x-python",
   "name": "python",
   "nbconvert_exporter": "python",
   "pygments_lexer": "ipython3",
   "version": "3.7.8"
  }
 },
 "nbformat": 4,
 "nbformat_minor": 5
}
