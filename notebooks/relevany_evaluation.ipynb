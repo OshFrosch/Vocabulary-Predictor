{
 "cells": [
  {
   "cell_type": "code",
   "execution_count": 1,
   "id": "innovative-reverse",
   "metadata": {},
   "outputs": [],
   "source": [
    "import os\n",
    "\n",
    "from vocabulary_extraction.utils.evaluation_utils.evaluation import get_keyword_results, get_all_files, process_keywords\n"
   ]
  },
  {
   "cell_type": "code",
   "execution_count": 2,
   "id": "accurate-green",
   "metadata": {},
   "outputs": [],
   "source": [
    "raw = os.path.abspath(\"../src/data/no_problem/\")\n",
    "\n",
    "amount_of_docs = 20   \n"
   ]
  },
  {
   "cell_type": "code",
   "execution_count": 3,
   "id": "cutting-intelligence",
   "metadata": {},
   "outputs": [
    {
     "name": "stdout",
     "output_type": "stream",
     "text": [
      "/Users/bockstaller/code/vocabulary-extraction/src/data/no_problem\n"
     ]
    }
   ],
   "source": [
    "files = get_all_files(raw)   "
   ]
  },
  {
   "cell_type": "code",
   "execution_count": 4,
   "id": "collectible-fishing",
   "metadata": {},
   "outputs": [],
   "source": [
    "\n",
    "df = process_keywords(files, amount_of_docs)"
   ]
  },
  {
   "cell_type": "code",
   "execution_count": 5,
   "id": "leading-saudi",
   "metadata": {},
   "outputs": [
    {
     "data": {
      "text/plain": [
       "0.7509408188153966"
      ]
     },
     "execution_count": 5,
     "metadata": {},
     "output_type": "execute_result"
    }
   ],
   "source": [
    "from vocabulary_extraction.utils.evaluation_utils.evaluation import get_mean_relevancy\n",
    "    \n",
    "get_mean_relevancy(df)"
   ]
  },
  {
   "cell_type": "code",
   "execution_count": 6,
   "id": "missing-least",
   "metadata": {},
   "outputs": [
    {
     "data": {
      "image/png": "[encoded data removed]",
      "text/plain": [
       "<Figure size 432x288 with 1 Axes>"
      ]
     },
     "metadata": {
      "needs_background": "light"
     },
     "output_type": "display_data"
    }
   ],
   "source": [
    "from vocabulary_extraction.utils.evaluation_utils.evaluation import plot_relevancy\n",
    "\n",
    "plot_relevancy(df)"
   ]
  },
  {
   "cell_type": "code",
   "execution_count": null,
   "id": "social-comparative",
   "metadata": {},
   "outputs": [],
   "source": []
  }
 ],
 "metadata": {
  "kernelspec": {
   "display_name": "vocabulary-extraction",
   "language": "python",
   "name": "vocabulary-extraction"
  },
  "language_info": {
   "codemirror_mode": {
    "name": "ipython",
    "version": 3
   },
   "file_extension": ".py",
   "mimetype": "text/x-python",
   "name": "python",
   "nbconvert_exporter": "python",
   "pygments_lexer": "ipython3",
   "version": "3.7.8"
  }
 },
 "nbformat": 4,
 "nbformat_minor": 5
}
